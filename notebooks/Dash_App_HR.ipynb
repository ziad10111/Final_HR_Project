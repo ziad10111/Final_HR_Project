{
 "cells": [
  {
   "cell_type": "code",
   "execution_count": 1,
   "id": "3f3e2a4d",
   "metadata": {},
   "outputs": [
    {
     "name": "stderr",
     "output_type": "stream",
     "text": [
      "C:\\Users\\HP\\AppData\\Local\\Temp\\ipykernel_8032\\3923934093.py:3: UserWarning: \n",
      "The dash_core_components package is deprecated. Please replace\n",
      "`import dash_core_components as dcc` with `from dash import dcc`\n",
      "  import dash_core_components as dcc\n",
      "C:\\Users\\HP\\AppData\\Local\\Temp\\ipykernel_8032\\3923934093.py:4: UserWarning: \n",
      "The dash_html_components package is deprecated. Please replace\n",
      "`import dash_html_components as html` with `from dash import html`\n",
      "  import dash_html_components as html\n"
     ]
    },
    {
     "data": {
      "text/html": [
       "\n",
       "        <iframe\n",
       "            width=\"100%\"\n",
       "            height=\"650\"\n",
       "            src=\"http://127.0.0.1:8050/\"\n",
       "            frameborder=\"0\"\n",
       "            allowfullscreen\n",
       "            \n",
       "        ></iframe>\n",
       "        "
      ],
      "text/plain": [
       "<IPython.lib.display.IFrame at 0x1cc13e4d250>"
      ]
     },
     "metadata": {},
     "output_type": "display_data"
    }
   ],
   "source": [
    "# Dash app setup\n",
    "import dash\n",
    "import dash_core_components as dcc\n",
    "import dash_html_components as html\n",
    "import plotly.express as px\n",
    "import pandas as pd\n",
    "\n",
    "# Load your data\n",
    "df = pd.read_csv('C:\\Data Science\\Final_HR_Project\\Final_HR_Project\\Final_HR_Project\\datas\\processed\\HR-Employee-Attrition-Cleaned.csv')  # Replace with the path to your data file\n",
    "\n",
    "# Ques_1: Distribution of age among the employees\n",
    "fig_age = px.histogram(df, x='Age', title='Age Distribution', nbins=30)\n",
    "fig_age.update_layout(bargap=0.1)\n",
    "\n",
    "# Qes_2: Attrition rates across different departments\n",
    "attrition_by_department = df.groupby('Department')['Attrition'].value_counts(normalize=True).reset_index(name='Proportion')\n",
    "fig_attrition_department = px.bar(\n",
    "    attrition_by_department,\n",
    "    x='Department',\n",
    "    y='Proportion',\n",
    "    color='Attrition',\n",
    "    title='Attrition Proportion by Department',\n",
    "    barmode='group'\n",
    ")\n",
    "\n",
    "# Qes_3: Average monthly income per job role\n",
    "average_income_by_role = df.groupby('JobRole')['MonthlyIncome'].mean().reset_index()\n",
    "fig_income_role = px.bar(\n",
    "    average_income_by_role,\n",
    "    x='MonthlyIncome',\n",
    "    y='JobRole',\n",
    "    title='Average Monthly Income by Job Role',\n",
    "    orientation='h'  \n",
    ")\n",
    "\n",
    "# Department Distribution\n",
    "fig_department = px.bar(df['Department'].value_counts().reset_index(), \n",
    "                        x='index', y='Department', \n",
    "                        title='Department Distribution', \n",
    "                        labels={'index': 'Department', 'Department': 'Count'})\n",
    "\n",
    "# MonthlyIncome Distribution\n",
    "fig_monthlyincome = px.histogram(df, x='MonthlyIncome', title='MonthlyIncome Distribution')\n",
    "\n",
    "# Initialize the Dash app\n",
    "app = dash.Dash(__name__)\n",
    "\n",
    "app.layout = html.Div(children=[\n",
    "    html.H1(children='HR Analytics Dashboard'),\n",
    "\n",
    "    html.Div(children='''\n",
    "        Dash: A web application framework for your data.\n",
    "    '''),\n",
    "\n",
    "    dcc.Graph(\n",
    "        id='age-distribution',\n",
    "        figure=fig_age\n",
    "    ),\n",
    "\n",
    "    dcc.Graph(\n",
    "        id='attrition-by-department',\n",
    "        figure=fig_attrition_department\n",
    "    ),\n",
    "\n",
    "    dcc.Graph(\n",
    "        id='income-by-role',\n",
    "        figure=fig_income_role\n",
    "    ),\n",
    "\n",
    "    dcc.Graph(\n",
    "        id='department-distribution',\n",
    "        figure=fig_department\n",
    "    ),\n",
    "\n",
    "    dcc.Graph(\n",
    "        id='monthly-income-distribution',\n",
    "        figure=fig_monthlyincome\n",
    "    )\n",
    "])\n",
    "\n",
    "if __name__ == '__main__':\n",
    "    app.run_server(debug=True)\n"
   ]
  },
  {
   "cell_type": "code",
   "execution_count": null,
   "id": "0647e403",
   "metadata": {},
   "outputs": [],
   "source": []
  }
 ],
 "metadata": {
  "kernelspec": {
   "display_name": "Python 3 (ipykernel)",
   "language": "python",
   "name": "python3"
  },
  "language_info": {
   "codemirror_mode": {
    "name": "ipython",
    "version": 3
   },
   "file_extension": ".py",
   "mimetype": "text/x-python",
   "name": "python",
   "nbconvert_exporter": "python",
   "pygments_lexer": "ipython3",
   "version": "3.11.4"
  }
 },
 "nbformat": 4,
 "nbformat_minor": 5
}
